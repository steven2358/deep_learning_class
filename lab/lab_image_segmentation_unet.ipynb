{
  "cells": [
    {
      "cell_type": "markdown",
      "metadata": {
        "id": "Q3NVDfXY4__X"
      },
      "source": [
        "# Image Segmentation with U-Net\n",
        "\n",
        "In this lab, you will build a U-Net, a type of Convolutional Neural Network designed for quick and precise image segmentation. You will use it to predict a label for every single pixel in an image from a self-driving car dataset.\n",
        "\n",
        "To understand the context of image segmentation, Figure 1 provides a visual representation of different types of visual perception tasks. Image classification predicts a set of labels to characterize the contents of an input image. Object detection involves localizing objects in an image by building bounding boxes around them and then classifying each object according to a set of classes. Semantic segmentation, on the other hand, associates every pixel in an input image with a class label. Instance segmentation combines object detection and semantic segmentation, associating every pixel in an input image with a specific object to achieve both correct detection and precise segmentation.\n",
        "\n",
        "<br/><img src=\"https://raw.githubusercontent.com/steven2358/deep_learning_class/main/lab/images/perception_tasks.jpg\" style=\"width:500px\">\n",
        "<caption><center> <u><b>Figure 1</u></b>: Visual Perception tasks [<a href=\"https://wiki.math.uwaterloo.ca/statwiki/index.php?title=Mask_RCNN\" target=\"_blank\">Source</a>] </center></caption><br/>\n",
        "\n",
        "Region-specific labeling is crucial for self-driving cars, requiring pixel-perfect understanding to safely navigate and avoid obstacles. This notebook will enable you to build your own U-Net model, explain the differences between a regular CNN and a U-Net, implement semantic image segmentation on the CARLA self-driving car dataset, and apply sparse categorical crossentropy for pixelwise prediction.\n",
        "\n",
        "*Aprox. execution time (CPU): 7 minutes per epoch.*  \n",
        "*Aprox. execution time (T4 GPU): 10 seconds per epoch.*  "
      ]
    },
    {
      "cell_type": "markdown",
      "metadata": {
        "id": "4Sbj7aUjDHqV"
      },
      "source": [
        "## Table of Content\n",
        "\n",
        "- [1 - Packages](#1)\n",
        "- [2 - Load and Split the Data](#2)\n",
        "    - [2.1 - Split the data set into unmasked and masked images](#2-1)\n",
        "    - [2.2 - Preprocess the data](#2-2)\n",
        "- [3 - U-Net](#3)\n",
        "    - [3.1 - Model Details](#3-1)\n",
        "    - [3.2 - Encoder (Downsampling Block)](#3-2)\n",
        "        - [Exercise 1 - conv_block](#ex-1)\n",
        "    - [3.3 - Decoder (Upsampling Block)](#3-3)\n",
        "        - [Exercise 2 - upsampling_block](#ex-2)\n",
        "    - [3.4 - Build the Model](#3-4)\n",
        "        - [Exercise 3 - unet_model](#ex-3)\n",
        "    - [3.5 - Set Model Dimensions](#3-5)\n",
        "    - [3.6 - Loss Function](#3-6)\n",
        "    - [3.7 - Dataset Handling](#3-7)\n",
        "- [4 - Train the Model](#4)\n",
        "    - [4.1 - Create Predicted Masks](#4-1)\n",
        "    - [4.2 - Plot Model Accuracy](#4-2)\n",
        "    - [4.3 - Show Predictions](#4-3)"
      ]
    },
    {
      "cell_type": "markdown",
      "metadata": {
        "id": "F57bqletV992"
      },
      "source": [
        "<a name='1'></a>\n",
        "## 1 - Packages\n",
        "\n",
        "Run the cell below to import all the libraries you'll need:"
      ]
    },
    {
      "cell_type": "code",
      "execution_count": null,
      "metadata": {
        "id": "0exJ9KsDrwck"
      },
      "outputs": [],
      "source": [
        "import os\n",
        "import numpy as np\n",
        "import pandas as pd\n",
        "\n",
        "import tensorflow as tf\n",
        "from tensorflow.keras.layers import Input\n",
        "from tensorflow.keras.layers import Conv2D\n",
        "from tensorflow.keras.layers import MaxPooling2D\n",
        "from tensorflow.keras.layers import Dropout\n",
        "from tensorflow.keras.layers import Conv2DTranspose\n",
        "from tensorflow.keras.layers import concatenate\n",
        "\n",
        "from utils import summary, comparator, download_and_extract\n",
        "\n",
        "import imageio\n",
        "import matplotlib.pyplot as plt\n",
        "%matplotlib inline"
      ]
    },
    {
      "cell_type": "markdown",
      "metadata": {
        "id": "i8vItVkqDHqc"
      },
      "source": [
        "<a name='2'></a>\n",
        "## 2 - Load and Split the Data"
      ]
    },
    {
      "cell_type": "code",
      "execution_count": null,
      "metadata": {
        "id": "FWpkuq4tfU4i"
      },
      "outputs": [],
      "source": [
        "# URLs for the data\n",
        "base_dir = None\n",
        "rgb_url = base_dir + \"CameraRGB.tar.gz\"\n",
        "mask_url = base_dir + \"CameraMask.tar.gz\"\n",
        "\n",
        "# Create the data directory if it doesn't exist\n",
        "os.makedirs('./data', exist_ok=True)\n",
        "\n",
        "# Download and extract the data\n",
        "download_and_extract(rgb_url, './data')\n",
        "download_and_extract(mask_url, './data')\n",
        "\n",
        "# Set up paths\n",
        "image_path = './data/CameraRGB/'\n",
        "mask_path = './data/CameraMask/'\n",
        "\n",
        "# List image files (excluding hidden files)\n",
        "image_list_orig = [f for f in os.listdir(image_path) if not f.startswith('.')]\n",
        "image_list = [os.path.join(image_path, i) for i in image_list_orig]\n",
        "mask_list = [os.path.join(mask_path, i) for i in image_list_orig]\n",
        "\n",
        "print(f\"Number of images: {len(image_list)}\")\n",
        "print(f\"Number of masks: {len(mask_list)}\")"
      ]
    },
    {
      "cell_type": "markdown",
      "metadata": {
        "id": "t1ONu0FxDHqc"
      },
      "source": [
        "### Check out the some of the unmasked and masked images from the dataset:\n",
        "\n",
        "Try several values of `N`."
      ]
    },
    {
      "cell_type": "code",
      "execution_count": null,
      "metadata": {
        "id": "RZhnXflBl6Xm"
      },
      "outputs": [],
      "source": [
        "N = 2\n",
        "img = imageio.imread(image_list[N])\n",
        "mask = imageio.imread(mask_list[N])\n",
        "#mask = np.array([max(mask[i, j]) for i in range(mask.shape[0]) for j in range(mask.shape[1])]).reshape(img.shape[0], img.shape[1])\n",
        "\n",
        "fig, arr = plt.subplots(1, 2, figsize=(14, 10))\n",
        "arr[0].imshow(img)\n",
        "arr[0].set_title('Image')\n",
        "arr[1].imshow(mask[:, :, 0])\n",
        "arr[1].set_title('Segmentation')"
      ]
    },
    {
      "cell_type": "markdown",
      "metadata": {
        "id": "GvPF9B0wDHqi"
      },
      "source": [
        "<a name='2-1'></a>\n",
        "### 2.1 - Split the data set into unmasked and masked images"
      ]
    },
    {
      "cell_type": "code",
      "execution_count": null,
      "metadata": {
        "id": "FlzMS0mhmkb1"
      },
      "outputs": [],
      "source": [
        "image_list_ds = tf.data.Dataset.list_files(image_list, shuffle=False)\n",
        "mask_list_ds = tf.data.Dataset.list_files(mask_list, shuffle=False)\n",
        "\n",
        "for path in zip(image_list_ds.take(3), mask_list_ds.take(3)):\n",
        "    print(path)"
      ]
    },
    {
      "cell_type": "code",
      "execution_count": null,
      "metadata": {
        "id": "aNF2Ztii8-Jx"
      },
      "outputs": [],
      "source": [
        "image_filenames = tf.constant(image_list)\n",
        "masks_filenames = tf.constant(mask_list)\n",
        "\n",
        "dataset = tf.data.Dataset.from_tensor_slices((image_filenames, masks_filenames))\n",
        "\n",
        "for image, mask in dataset.take(1):\n",
        "    print(image)\n",
        "    print(mask)"
      ]
    },
    {
      "cell_type": "markdown",
      "metadata": {
        "id": "KvNYbUgJDHqk"
      },
      "source": [
        "<a name='2-2'></a>\n",
        "### 2.2 - Preprocess the data\n",
        "\n",
        "Normally, you normalize your image values by dividing them by `255`. This sets them between `0` and `1`. However, using `tf.image.convert_image_dtype` with `tf.float32` sets them between `0` and `1` for you, so there's no need to further divide them by `255`."
      ]
    },
    {
      "cell_type": "code",
      "execution_count": null,
      "metadata": {
        "id": "NUjQfI1wmkkn"
      },
      "outputs": [],
      "source": [
        "def process_path(image_path, mask_path):\n",
        "    img = tf.io.read_file(image_path)\n",
        "    img = tf.image.decode_png(img, channels=3)\n",
        "    img = tf.image.convert_image_dtype(img, tf.float32)\n",
        "\n",
        "    mask = tf.io.read_file(mask_path)\n",
        "    mask = tf.image.decode_png(mask, channels=3)\n",
        "    mask = tf.math.reduce_max(mask, axis=-1, keepdims=True)\n",
        "    return img, mask\n",
        "\n",
        "def preprocess(image, mask):\n",
        "    input_image = tf.image.resize(image, (96, 128), method='nearest')\n",
        "    input_mask = tf.image.resize(mask, (96, 128), method='nearest')\n",
        "\n",
        "    return input_image, input_mask\n",
        "\n",
        "image_ds = dataset.map(process_path)\n",
        "processed_image_ds = image_ds.map(preprocess)"
      ]
    },
    {
      "cell_type": "markdown",
      "metadata": {
        "id": "DPgHLPlwDHql"
      },
      "source": [
        "<a name='3'></a>\n",
        "## 3 - U-Net\n",
        "\n",
        "U-Net, named for its U-shape, was originally created in 2015 for tumor detection, but in the years since has become a very popular choice for other semantic segmentation tasks.\n",
        "\n",
        "U-Net builds on a previous architecture called the Fully Convolutional Network, or FCN, which replaces the dense layers found in a typical CNN with a transposed convolution layer that upsamples the feature map back to the size of the original input image, while preserving the spatial information. This is necessary because the dense layers destroy spatial information (the \"where\" of the image), which is an essential part of image segmentation tasks. An added bonus of using transpose convolutions is that the input size no longer needs to be fixed, as it does when dense layers are used.\n",
        "\n",
        "Unfortunately, the final feature layer of the FCN suffers from information loss due to downsampling too much. It then becomes difficult to upsample after so much information has been lost, causing an output that looks rough.\n",
        "\n",
        "U-Net improves on the FCN, using a somewhat similar design, but differing in some important ways.  Instead of one transposed convolution at the end of the network, it uses a matching number of convolutions for downsampling the input image to a feature map, and transposed convolutions for upsampling those maps back up to the original input image size. It also adds skip connections, to retain information that would otherwise become lost during encoding. Skip connections send information to every upsampling layer in the decoder from the corresponding downsampling layer in the encoder, capturing finer information while also keeping computation low. These help prevent information loss, as well as model overfitting."
      ]
    },
    {
      "cell_type": "markdown",
      "metadata": {
        "id": "UvACr2T_DHql"
      },
      "source": [
        "<a name='3-1'></a>\n",
        "### 3.1 - Model Details\n",
        "\n",
        "<img src=\"https://raw.githubusercontent.com/steven2358/deep_learning_class/main/lab/images/unet.png\" style=\"width:700px;\">\n",
        "<caption><center> <u><b> Figure 2 </u></b>: U-Net Architecture<br> </center></caption>\n",
        "\n",
        "**Contracting path** (Encoder containing downsampling steps):\n",
        "\n",
        "- Images are first fed through several convolutional layers which reduce height and width, while growing the number of channels.\n",
        "\n",
        "- The contracting path follows a regular CNN architecture, with convolutional layers, their activations, and pooling layers to downsample the image and extract its features. In detail, it consists of the repeated application of two 3 x 3 same padding convolutions, each followed by a rectified linear unit (ReLU) and a 2 x 2 max pooling operation with stride 2 for downsampling. At each downsampling step, the number of feature channels is doubled.\n",
        "\n",
        "**Crop function**: This step crops the image from the contracting path and concatenates it to the current image on the expanding path to create a skip connection.\n",
        "\n",
        "**Expanding path** (Decoder containing upsampling steps):\n",
        "\n",
        "- The expanding path performs the opposite operation of the contracting path, growing the image back to its original size, while shrinking the channels gradually.\n",
        "\n",
        "- In detail, each step in the expanding path upsamples the feature map, followed by a 2 x 2 convolution (the transposed convolution). This transposed convolution halves the number of feature channels, while growing the height and width of the image.\n",
        "\n",
        "- Next is a concatenation with the correspondingly cropped feature map from the contracting path, and two 3 x 3 convolutions, each followed by a ReLU. You need to perform cropping to handle the loss of border pixels in every convolution.\n",
        "\n",
        "**Final Feature Mapping Block**: In the final layer, a 1x1 convolution is used to map each 64-component feature vector to the desired number of classes. The channel dimensions from the previous layer correspond to the number of filters used, so when you use 1x1 convolutions, you can transform that dimension by choosing an appropriate number of 1x1 filters. When this idea is applied to the last layer, you can reduce the channel dimensions to have one layer per class.\n",
        "\n",
        "The U-Net network has 23 convolutional layers in total.\n",
        "\n",
        "#### Important Note:\n",
        "The figures shown for the U-Net architecture depict the layer dimensions and filter sizes as per the original paper on U-Net with smaller images. However, due to computational constraints ibn this lab, you will code only half of those filters. The purpose of showing you the original dimensions is to give you the flavour of the original U-Net architecture. The important takeaway is that you multiply by 2 the number of filters used in the previous step. The notebook includes all of the necessary instructions and hints to help you code the U-Net architecture needed for this exercise."
      ]
    },
    {
      "cell_type": "markdown",
      "metadata": {
        "id": "ETPr2Kx7CpqG"
      },
      "source": [
        "<a name='3-2'></a>\n",
        "### 3.2 - Encoder (Downsampling Block)\n",
        "\n",
        "<img src=\"https://raw.githubusercontent.com/steven2358/deep_learning_class/main/lab/images/encoder.png\" style=\"width:500px;\">\n",
        "<caption><center> <u><b>Figure 3</u></b>: The U-Net Encoder up close <br> </center></caption>\n",
        "\n",
        "The encoder is a stack of various conv_blocks:\n",
        "\n",
        "Each `conv_block()` is composed of 2 **Conv2D** layers  with ReLU activations. We will apply **Dropout**, and **MaxPooling2D** to some conv_blocks, as you will verify in the following sections, specifically to the last two blocks of the downsampling.\n",
        "\n",
        "The function will  return two tensors:\n",
        "- `next_layer`: That will go into the next block.\n",
        "- `skip_connection`: That will go into the corresponding decoding block.\n",
        "\n",
        "**Note**: If `max_pooling=True`, the `next_layer` will be the output of the MaxPooling2D layer, but the `skip_connection` will be the output of the previously applied layer(Conv2D or Dropout, depending on the case). Else, both results will be identical.  \n",
        "\n",
        "<a name='ex-1'></a>\n",
        "### Exercise 1 - conv_block\n",
        "\n",
        "Implement `conv_block(...)`. Here are the instructions for each step in the `conv_block`, or contracting block:\n",
        "\n",
        "* Add 2 **Conv2D** layers with `n_filters` filters with `kernel_size` set to 3, `kernel_initializer` set to ['he_normal'](https://www.tensorflow.org/api_docs/python/tf/keras/initializers/HeNormal), `padding` set to 'same' and 'relu' activation.\n",
        "* if `dropout_prob` > 0, then add a Dropout layer with parameter `dropout_prob`\n",
        "* If `max_pooling` is set to True, then add a MaxPooling2D layer with 2x2 pool size"
      ]
    },
    {
      "cell_type": "code",
      "execution_count": null,
      "metadata": {
        "id": "_jREFwsA5w6j"
      },
      "outputs": [],
      "source": [
        "# FUNCTION: conv_block\n",
        "def conv_block(inputs=None, n_filters=32, dropout_prob=0, max_pooling=True):\n",
        "    \"\"\"\n",
        "    Convolutional downsampling block\n",
        "\n",
        "    Arguments:\n",
        "        inputs -- Input tensor\n",
        "        n_filters -- Number of filters for the convolutional layers\n",
        "        dropout_prob -- Dropout probability\n",
        "        max_pooling -- Use MaxPooling2D to reduce the spatial dimensions of the output volume\n",
        "    Returns:\n",
        "        next_layer, skip_connection --  Next layer and skip connection outputs\n",
        "    \"\"\"\n",
        "\n",
        "    ### START CODE HERE\n",
        "    conv = Conv2D(None, # Number of filters\n",
        "                  None,   # Kernel size\n",
        "                  activation=None,\n",
        "                  padding=None,\n",
        "                  kernel_initializer='he_normal')(inputs)\n",
        "    conv = Conv2D(None, # Number of filters\n",
        "                  None,   # Kernel size\n",
        "                  activation=None,\n",
        "                  padding=None,\n",
        "                  # set 'kernel_initializer' same as above\n",
        "                  kernel_initializer=None)(conv)\n",
        "    ### END CODE HERE\n",
        "\n",
        "    # if dropout_prob > 0 add a dropout layer, with the variable dropout_prob as parameter\n",
        "    if dropout_prob > 0:\n",
        "         ### START CODE HERE\n",
        "        conv = None\n",
        "         ### END CODE HERE\n",
        "\n",
        "\n",
        "    # if max_pooling is True add a MaxPooling2D with 2x2 pool_size\n",
        "    if max_pooling:\n",
        "        ### START CODE HERE\n",
        "        next_layer = None\n",
        "        ### END CODE HERE\n",
        "\n",
        "    else:\n",
        "        next_layer = conv\n",
        "\n",
        "    skip_connection = conv\n",
        "\n",
        "    return next_layer, skip_connection"
      ]
    },
    {
      "cell_type": "code",
      "execution_count": null,
      "metadata": {
        "id": "q3wOHLXADHqn"
      },
      "outputs": [],
      "source": [
        "input_size=(96, 128, 3)\n",
        "n_filters = 32\n",
        "inputs = Input(input_size)\n",
        "cblock1 = conv_block(inputs, n_filters * 1)\n",
        "model1 = tf.keras.Model(inputs=inputs, outputs=cblock1)\n",
        "\n",
        "output1 = [['InputLayer', [(None, 96, 128, 3)], 0],\n",
        "            ['Conv2D', (None, 96, 128, 32), 896, 'same', 'relu', 'HeNormal'],\n",
        "            ['Conv2D', (None, 96, 128, 32), 9248, 'same', 'relu', 'HeNormal'],\n",
        "            ['MaxPooling2D', (None, 48, 64, 32), 0, (2, 2)]]\n",
        "\n",
        "print('Block 1:')\n",
        "for layer in summary(model1):\n",
        "    print(layer)\n",
        "\n",
        "comparator(summary(model1), output1)\n",
        "\n",
        "inputs = Input(input_size)\n",
        "cblock1 = conv_block(inputs, n_filters * 32, dropout_prob=0.1, max_pooling=True)\n",
        "model2 = tf.keras.Model(inputs=inputs, outputs=cblock1)\n",
        "\n",
        "output2 = [['InputLayer', [(None, 96, 128, 3)], 0],\n",
        "            ['Conv2D', (None, 96, 128, 1024), 28672, 'same', 'relu', 'HeNormal'],\n",
        "            ['Conv2D', (None, 96, 128, 1024), 9438208, 'same', 'relu', 'HeNormal'],\n",
        "            ['Dropout', (None, 96, 128, 1024), 0, 0.1],\n",
        "            ['MaxPooling2D', (None, 48, 64, 1024), 0, (2, 2)]]\n",
        "\n",
        "print('\\nBlock 2:')\n",
        "for layer in summary(model2):\n",
        "    print(layer)\n",
        "\n",
        "comparator(summary(model2), output2)"
      ]
    },
    {
      "cell_type": "markdown",
      "metadata": {
        "id": "8n-9c0keCtbf"
      },
      "source": [
        "<a name='3-3'></a>\n",
        "### 3.3 - Decoder (Upsampling Block)\n",
        "\n",
        "The decoder, or upsampling block, upsamples the features back to the original image size. At each upsampling level, you'll take the output of the corresponding encoder block and concatenate it before feeding to the next decoder block.\n",
        "\n",
        "<img src=\"https://raw.githubusercontent.com/steven2358/deep_learning_class/main/lab/images/decoder.png\" style=\"width:700px;\">\n",
        "<caption><center> <u><b>Figure 4</u></b>: The U-Net Decoder up close <br> </center></caption>\n",
        "\n",
        "There are two new components in the decoder: `up` and `merge`. These are the transpose convolution and the skip connections. In addition, there are two more convolutional layers set to the same parameters as in the encoder.\n",
        "\n",
        "Here you'll encounter the `Conv2DTranspose` layer, which performs the inverse of the `Conv2D` layer. You can read more about it [here.](https://www.tensorflow.org/api_docs/python/tf/keras/layers/Conv2DTranspose)\n",
        "\n",
        "\n",
        "<a name='ex-2'></a>\n",
        "### Exercise 2 - upsampling_block\n",
        "\n",
        "Implement `upsampling_block(...)`.\n",
        "\n",
        "For the function `upsampling_block`:\n",
        "* Takes the arguments `expansive_input` (which is the input tensor from the previous layer) and `contractive_input` (the input tensor from the previous skip layer)\n",
        "* The number of filters here is the same as in the downsampling block you completed previously\n",
        "* Your `Conv2DTranspose` layer will take `n_filters` with shape (3,3) and a stride of (2,2), with padding set to `same`. It's applied to `expansive_input`, or the input tensor from the previous layer.\n",
        "\n",
        "This block is also where you'll concatenate the outputs from the encoder blocks, creating skip connections.\n",
        "\n",
        "* Concatenate your Conv2DTranspose layer output to the contractive input, with an `axis` of 3. In general, you can concatenate the tensors in the order that you prefer. But for the grader, it is important that you use `[up, contractive_input]`\n",
        "\n",
        "For the final component, set the parameters for two Conv2D layers to the same values that you set for the two Conv2D layers in the encoder (ReLU activation, He normal initializer, `same` padding).\n"
      ]
    },
    {
      "cell_type": "code",
      "execution_count": null,
      "metadata": {
        "id": "9lzEn-mu6nHa"
      },
      "outputs": [],
      "source": [
        "# FUNCTION: upsampling_block\n",
        "def upsampling_block(expansive_input, contractive_input, n_filters=32):\n",
        "    \"\"\"\n",
        "    Convolutional upsampling block\n",
        "\n",
        "    Arguments:\n",
        "        expansive_input -- Input tensor from previous layer\n",
        "        contractive_input -- Input tensor from previous skip layer\n",
        "        n_filters -- Number of filters for the convolutional layers\n",
        "    Returns:\n",
        "        conv -- Tensor output\n",
        "    \"\"\"\n",
        "\n",
        "    ### START CODE HERE\n",
        "    up = Conv2DTranspose(\n",
        "                 None,    # number of filters\n",
        "                 None,    # Kernel size\n",
        "                 strides=None,\n",
        "                 padding=None)(expansive_input)\n",
        "\n",
        "    # Merge the previous output and the contractive_input\n",
        "    merge = concatenate([up, contractive_input], axis=3)\n",
        "    conv = Conv2D(None,   # Number of filters\n",
        "                 None,     # Kernel size\n",
        "                 activation=None,\n",
        "                 padding=None,\n",
        "                 kernel_initializer='he_normal')(merge)\n",
        "    conv = Conv2D(None,  # Number of filters\n",
        "                 None,   # Kernel size\n",
        "                 activation=None,\n",
        "                 padding=None,\n",
        "                  # set 'kernel_initializer' same as above\n",
        "                 kernel_initializer=None)(conv)\n",
        "    ### END CODE HERE\n",
        "\n",
        "    return conv"
      ]
    },
    {
      "cell_type": "code",
      "execution_count": null,
      "metadata": {
        "id": "db8Os2O3DHqp"
      },
      "outputs": [],
      "source": [
        "input_size1=(12, 16, 256)\n",
        "input_size2 = (24, 32, 128)\n",
        "n_filters = 32\n",
        "expansive_inputs = Input(input_size1)\n",
        "contractive_inputs =  Input(input_size2)\n",
        "cblock1 = upsampling_block(expansive_inputs, contractive_inputs, n_filters * 1)\n",
        "model1 = tf.keras.Model(inputs=[expansive_inputs, contractive_inputs], outputs=cblock1)\n",
        "\n",
        "output1 = [['InputLayer', [(None, 12, 16, 256)], 0],\n",
        "            ['Conv2DTranspose', (None, 24, 32, 32), 73760],\n",
        "            ['InputLayer', [(None, 24, 32, 128)], 0],\n",
        "            ['Concatenate', (None, 24, 32, 160), 0],\n",
        "            ['Conv2D', (None, 24, 32, 32), 46112, 'same', 'relu', 'HeNormal'],\n",
        "            ['Conv2D', (None, 24, 32, 32), 9248, 'same', 'relu', 'HeNormal']]\n",
        "\n",
        "print('Block 1:')\n",
        "for layer in summary(model1):\n",
        "    print(layer)\n",
        "\n",
        "comparator(summary(model1), output1)"
      ]
    },
    {
      "cell_type": "markdown",
      "metadata": {
        "id": "iXj7AjI8DHqp"
      },
      "source": [
        "<a name='3-4'></a>\n",
        "### 3.4 - Build the Model\n",
        "\n",
        "This is where you'll put it all together, by chaining the encoder, bottleneck, and decoder. You'll need to specify the number of output channels, which for this particular set would be 23. That's because there are 23 possible labels for each pixel in this self-driving car dataset.\n",
        "\n",
        "<a name='ex-3'></a>\n",
        "### Exercise 3 - unet_model\n",
        "\n",
        "For the function `unet_model`, specify the input shape, number of filters, and number of classes (23 in this case).\n",
        "\n",
        "For the first half of the model:\n",
        "\n",
        "* Begin with a conv block that takes the inputs of the model and the number of filters\n",
        "* Then, chain the first output element of each block to the input of the next convolutional block\n",
        "* Next, double the number of filters at each step\n",
        "* Beginning with `conv_block4`, add `dropout_prob` of 0.3\n",
        "* For the final conv_block, set `dropout_prob` to 0.3 again, and turn off max pooling  \n",
        "\n",
        "For the second half:\n",
        "\n",
        "* Use cblock5 as expansive_input and cblock4 as contractive_input, with `n_filters` * 8. This is your bottleneck layer.\n",
        "* Chain the output of the previous block as expansive_input and the corresponding contractive block output.\n",
        "* Note that you must use the second element of the contractive block before the max pooling layer.\n",
        "* At each step, use half the number of filters of the previous block\n",
        "* `conv9` is a Conv2D layer with ReLU activation, He normal initializer, `same` padding\n",
        "* Finally, `conv10` is a Conv2D that takes the number of classes as the filter, a kernel size of 1, and \"same\" padding. The output of `conv10` is the output of your model."
      ]
    },
    {
      "cell_type": "code",
      "execution_count": null,
      "metadata": {
        "id": "Sv2UCFehHZsh"
      },
      "outputs": [],
      "source": [
        "# FUNCTION: unet_model\n",
        "def unet_model(input_size=(96, 128, 3), n_filters=32, n_classes=23):\n",
        "    \"\"\"\n",
        "    Unet model\n",
        "\n",
        "    Arguments:\n",
        "        input_size -- Input shape\n",
        "        n_filters -- Number of filters for the convolutional layers\n",
        "        n_classes -- Number of output classes\n",
        "    Returns:\n",
        "        model -- tf.keras.Model\n",
        "    \"\"\"\n",
        "    inputs = Input(input_size)\n",
        "    # Contracting Path (encoding)\n",
        "    # Add a conv_block with the inputs of the unet_ model and n_filters\n",
        "    ### START CODE HERE\n",
        "    cblock1 = conv_block(None, None)\n",
        "    # Chain the first element of the output of each block to be the input of the next conv_block.\n",
        "    # Double the number of filters at each new step\n",
        "    cblock2 = conv_block(None, None)\n",
        "    cblock3 = conv_block(None, None)\n",
        "    cblock4 = conv_block(None, None, dropout=None) # Include a dropout_prob of 0.3 for this layer\n",
        "    # Include a dropout_prob of 0.3 for this layer, and avoid the max_pooling layer\n",
        "    cblock5 = conv_block(None, None, dropout=None, max_pooling=None)\n",
        "    ### END CODE HERE\n",
        "\n",
        "    # Expanding Path (decoding)\n",
        "    # Add the first upsampling_block.\n",
        "    # Use the cblock5[0] as expansive_input and cblock4[1] as contractive_input and n_filters * 8\n",
        "    ### START CODE HERE\n",
        "    ublock6 = upsampling_block(None, None,  None)\n",
        "    # Chain the output of the previous block as expansive_input and the corresponding contractive block output.\n",
        "    # Note that you must use the second element of the contractive block i.e before the maxpooling layer.\n",
        "    # At each step, use half the number of filters of the previous block\n",
        "    ublock7 = upsampling_block(None, None,  None)\n",
        "    ublock8 = upsampling_block(None, None,  None)\n",
        "    ublock9 = upsampling_block(None, None,  None)\n",
        "    ### END CODE HERE\n",
        "\n",
        "    conv9 = Conv2D(n_filters,\n",
        "                 3,\n",
        "                 activation='relu',\n",
        "                 padding='same',\n",
        "                 # set 'kernel_initializer' same as above exercises\n",
        "                 kernel_initializer='he_normal')(ublock9)\n",
        "\n",
        "    # Add a Conv2D layer with n_classes filter, kernel size of 1 and a 'same' padding\n",
        "    ### START CODE HERE\n",
        "    conv10 = Conv2D(None, None, padding=None)(conv9)\n",
        "    ### END CODE HERE\n",
        "\n",
        "    model = tf.keras.Model(inputs=inputs, outputs=conv10)\n",
        "\n",
        "    return model"
      ]
    },
    {
      "cell_type": "code",
      "execution_count": null,
      "metadata": {
        "id": "YLyaKig3DHqq"
      },
      "outputs": [],
      "source": [
        "import outputs\n",
        "img_height = 96\n",
        "img_width = 128\n",
        "num_channels = 3\n",
        "\n",
        "unet = unet_model((img_height, img_width, num_channels))\n",
        "comparator(summary(unet), outputs.unet_model_output)\n"
      ]
    },
    {
      "cell_type": "markdown",
      "metadata": {
        "id": "UW6Q3aUnDHqr"
      },
      "source": [
        "<a name='3-5'></a>\n",
        "### 3.5 - Set Model Dimensions"
      ]
    },
    {
      "cell_type": "code",
      "execution_count": null,
      "metadata": {
        "id": "jCQIwZlnsDTQ"
      },
      "outputs": [],
      "source": [
        "img_height = 96\n",
        "img_width = 128\n",
        "num_channels = 3\n",
        "\n",
        "unet = unet_model((img_height, img_width, num_channels))"
      ]
    },
    {
      "cell_type": "markdown",
      "metadata": {
        "id": "4ipn9xphDHqs"
      },
      "source": [
        "### Check out the model summary below!"
      ]
    },
    {
      "cell_type": "code",
      "execution_count": null,
      "metadata": {
        "id": "DwwHaRDpDHqs"
      },
      "outputs": [],
      "source": [
        "unet.summary()"
      ]
    },
    {
      "cell_type": "markdown",
      "metadata": {
        "id": "A02eTdbXDDVv"
      },
      "source": [
        "<a name='3-6'></a>\n",
        "### 3.6 - Loss Function\n",
        "\n",
        "In semantic segmentation, you need as many masks as you have object classes. In the dataset you're using, each pixel in every mask has been assigned a single integer probability that it belongs to a certain class, from 0 to num_classes-1. The correct class is the layer with the higher probability.\n",
        "\n",
        "This is different from categorical crossentropy, where the labels should be one-hot encoded (just 0s and 1s). Here, you'll use sparse categorical crossentropy as your loss function, to perform pixel-wise multiclass prediction. Sparse categorical crossentropy is more efficient than other loss functions when you're dealing with lots of classes."
      ]
    },
    {
      "cell_type": "code",
      "execution_count": null,
      "metadata": {
        "id": "AGfA5_7NtH9i"
      },
      "outputs": [],
      "source": [
        "unet.compile(optimizer='adam',\n",
        "              loss=tf.keras.losses.SparseCategoricalCrossentropy(from_logits=True),\n",
        "              metrics=['accuracy'])"
      ]
    },
    {
      "cell_type": "markdown",
      "metadata": {
        "id": "Cz5Z8XdbC6Hg"
      },
      "source": [
        "<a name='3-7'></a>\n",
        "### 3.7 - Dataset Handling\n",
        "\n",
        "Below, define a function that allows you to display both an input image, and its ground truth: the true mask. The true mask is what your trained model output is aiming to get as close to as possible."
      ]
    },
    {
      "cell_type": "code",
      "execution_count": null,
      "metadata": {
        "id": "mSuxeWlSgU5f"
      },
      "outputs": [],
      "source": [
        "def display(display_list):\n",
        "    plt.figure(figsize=(15, 15))\n",
        "\n",
        "    title = ['Input Image', 'True Mask', 'Predicted Mask']\n",
        "\n",
        "    for i in range(len(display_list)):\n",
        "        plt.subplot(1, len(display_list), i+1)\n",
        "        plt.title(title[i])\n",
        "        plt.imshow(tf.keras.preprocessing.image.array_to_img(display_list[i]))\n",
        "        plt.axis('off')\n",
        "    plt.show()"
      ]
    },
    {
      "cell_type": "code",
      "execution_count": null,
      "metadata": {
        "id": "xpFmVX5vgXRj"
      },
      "outputs": [],
      "source": [
        "for image, mask in image_ds.take(1):\n",
        "    sample_image, sample_mask = image, mask\n",
        "    print(mask.shape)\n",
        "display([sample_image, sample_mask])"
      ]
    },
    {
      "cell_type": "code",
      "execution_count": null,
      "metadata": {
        "id": "cqON4c2UGgC4"
      },
      "outputs": [],
      "source": [
        "for image, mask in processed_image_ds.take(1):\n",
        "    sample_image, sample_mask = image, mask\n",
        "    print(mask.shape)\n",
        "display([sample_image, sample_mask])"
      ]
    },
    {
      "cell_type": "markdown",
      "metadata": {
        "id": "Sco-8XdVC-gN"
      },
      "source": [
        "<a name='4'></a>\n",
        "## 4 - Train the Model"
      ]
    },
    {
      "cell_type": "code",
      "execution_count": null,
      "metadata": {
        "id": "1Ne0IowRgcom"
      },
      "outputs": [],
      "source": [
        "EPOCHS = 5\n",
        "BUFFER_SIZE = 500\n",
        "BATCH_SIZE = 32\n",
        "train_dataset = processed_image_ds.cache().shuffle(BUFFER_SIZE).batch(BATCH_SIZE)\n",
        "print(processed_image_ds.element_spec)\n",
        "model_history = unet.fit(train_dataset, epochs=EPOCHS)"
      ]
    },
    {
      "cell_type": "markdown",
      "metadata": {
        "id": "4ozjSgDDDHqx"
      },
      "source": [
        "<a name='4-1'></a>\n",
        "### 4.1 - Create Predicted Masks\n",
        "\n",
        "Now, define a function that uses `tf.argmax` in the axis of the number of classes to return the index with the largest value and merge the prediction into a single image:"
      ]
    },
    {
      "cell_type": "code",
      "execution_count": null,
      "metadata": {
        "id": "AvFEnJrHhmJo"
      },
      "outputs": [],
      "source": [
        "def create_mask(pred_mask):\n",
        "    pred_mask = tf.argmax(pred_mask, axis=-1)\n",
        "    pred_mask = pred_mask[..., tf.newaxis]\n",
        "    return pred_mask[0]"
      ]
    },
    {
      "cell_type": "markdown",
      "metadata": {
        "id": "BmxxU-NUDHq4"
      },
      "source": [
        "<a name='4-2'></a>\n",
        "### 4.2 - Plot Model Accuracy\n",
        "\n",
        "Let's see how your model did!"
      ]
    },
    {
      "cell_type": "code",
      "execution_count": null,
      "metadata": {
        "id": "PqCzmTmnl1lI"
      },
      "outputs": [],
      "source": [
        "plt.plot(model_history.history[\"accuracy\"])"
      ]
    },
    {
      "cell_type": "markdown",
      "metadata": {
        "id": "YlCrVJwHDHq5"
      },
      "source": [
        "<a name='4-3'></a>\n",
        "### 4.3 - Show Predictions\n",
        "\n",
        "Next, check your predicted masks against the true mask and the original input image:"
      ]
    },
    {
      "cell_type": "code",
      "execution_count": null,
      "metadata": {
        "id": "BX4uCaP2glMo"
      },
      "outputs": [],
      "source": [
        "def show_predictions(dataset=None, num=1):\n",
        "    \"\"\"\n",
        "    Displays the first image of each of the num batches\n",
        "    \"\"\"\n",
        "    if dataset:\n",
        "        for image, mask in dataset.take(num):\n",
        "            pred_mask = unet.predict(image)\n",
        "            display([image[0], mask[0], create_mask(pred_mask)])\n",
        "    else:\n",
        "        display([sample_image, sample_mask,\n",
        "             create_mask(unet.predict(sample_image[tf.newaxis, ...]))])"
      ]
    },
    {
      "cell_type": "code",
      "execution_count": null,
      "metadata": {
        "id": "5qODM_hRhfR5"
      },
      "outputs": [],
      "source": [
        "show_predictions(train_dataset, 6)"
      ]
    },
    {
      "cell_type": "markdown",
      "metadata": {
        "id": "o9NqYWn_DHq6"
      },
      "source": [
        "With 40 epochs you should get excellent results. More epochs do not always guarantee great results, though. Remember to experiment."
      ]
    },
    {
      "cell_type": "markdown",
      "metadata": {
        "id": "YlUaoayVDHq8"
      },
      "source": [
        "### Conclusion\n",
        "\n",
        "You've come to the end of this exercise. Excellent job work creating a state-of-the art model for semantic image segmentation!"
      ]
    },
    {
      "cell_type": "markdown",
      "metadata": {
        "id": "m5eMQ69ODHq8"
      },
      "source": [
        "\n",
        "**What you should remember**:\n",
        "\n",
        "* Semantic image segmentation predicts a label for every single pixel in an image\n",
        "* U-Net uses an equal number of convolutional blocks and transposed convolutions for downsampling and upsampling\n",
        "* Skip connections are used to prevent border pixel information loss and overfitting in U-Net"
      ]
    },
    {
      "cell_type": "markdown",
      "metadata": {
        "id": "jAaESelVIpZi"
      },
      "source": [
        "Sources:\n",
        "- U-Net: Convolutional Networks for Biomedical Image Segmentation https://lmb.informatik.uni-freiburg.de/people/ronneber/u-net/\n",
        "- Coursera Convolutional Neural Networks https://www.coursera.org/learn/convolutional-neural-networks\n",
        "- Mask RCNN https://wiki.math.uwaterloo.ca/statwiki/index.php?title=Mask_RCNN\n"
      ]
    }
  ],
  "metadata": {
    "accelerator": "GPU",
    "colab": {
      "gpuType": "T4",
      "provenance": []
    },
    "kernelspec": {
      "display_name": "Python 3",
      "name": "python3"
    },
    "language_info": {
      "codemirror_mode": {
        "name": "ipython",
        "version": 3
      },
      "file_extension": ".py",
      "mimetype": "text/x-python",
      "name": "python",
      "nbconvert_exporter": "python",
      "pygments_lexer": "ipython3",
      "version": "3.8.10"
    }
  },
  "nbformat": 4,
  "nbformat_minor": 0
}