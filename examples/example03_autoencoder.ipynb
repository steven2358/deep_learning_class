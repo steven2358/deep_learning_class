{
  "nbformat": 4,
  "nbformat_minor": 0,
  "metadata": {
    "colab": {
      "provenance": [],
      "gpuType": "T4"
    },
    "kernelspec": {
      "name": "python3",
      "display_name": "Python 3"
    },
    "language_info": {
      "name": "python"
    },
    "accelerator": "GPU"
  },
  "cells": [
    {
      "cell_type": "markdown",
      "source": [
        "# Example 3: Autoencoder\n",
        "\n",
        "Aprox. execution time (T4 GPU): 2 minutes."
      ],
      "metadata": {
        "id": "atDeYvxAFTWe"
      }
    },
    {
      "cell_type": "code",
      "source": [
        "import tensorflow as tf\n",
        "from tensorflow.keras.layers import Input, Dense\n",
        "from tensorflow.keras.models import Model\n",
        "import matplotlib.pyplot as plt\n",
        "import seaborn as sns\n",
        "import numpy as np\n",
        "from time import time"
      ],
      "metadata": {
        "id": "C8yKi4jfu4ib"
      },
      "execution_count": null,
      "outputs": []
    },
    {
      "cell_type": "code",
      "source": [
        "# Load and prepare the MNIST dataset\n",
        "(train_images, train_labels), (test_images, test_labels) = tf.keras.datasets.mnist.load_data()\n",
        "\n",
        "# Normalize and reshape the images\n",
        "train_images = train_images.reshape((60000, 28 * 28)).astype('float32') / 255\n",
        "test_images = test_images.reshape((10000, 28 * 28)).astype('float32') / 255\n",
        "\n",
        "# Define parameters\n",
        "input_dim = 784  # 28 * 28\n",
        "latent_vec_dim = 2"
      ],
      "metadata": {
        "id": "00heXwLvu6m7"
      },
      "execution_count": null,
      "outputs": []
    },
    {
      "cell_type": "code",
      "source": [
        "# Define the autoencoder architecture\n",
        "input_layer = Input(shape=(input_dim,))\n",
        "\n",
        "# Encoder\n",
        "enc_layer_1 = Dense(500, activation='sigmoid')(input_layer)\n",
        "enc_layer_2 = Dense(300, activation='sigmoid')(enc_layer_1)\n",
        "enc_layer_3 = Dense(100, activation='sigmoid')(enc_layer_2)\n",
        "enc_layer_4 = Dense(latent_vec_dim, activation='tanh')(enc_layer_3)\n",
        "encoder = enc_layer_4\n",
        "\n",
        "# Decoder\n",
        "dec_layer_1 = Dense(100, activation='sigmoid')(encoder)\n",
        "dec_layer_2 = Dense(300, activation='sigmoid')(dec_layer_1)\n",
        "dec_layer_3 = Dense(500, activation='sigmoid')(dec_layer_2)\n",
        "dec_layer_4 = Dense(input_dim, activation='sigmoid')(dec_layer_3)\n",
        "decoder = dec_layer_4\n",
        "\n",
        "# Connect encoder and decoder\n",
        "autoencoder = Model(input_layer, decoder, name=\"Deep_Autoencoder\")\n",
        "\n",
        "# Latent representation model\n",
        "latent_model = Model(input_layer, encoder)\n",
        "\n",
        "# Get summary\n",
        "autoencoder.summary()\n",
        "\n",
        "# Compile the autoencoder model\n",
        "autoencoder.compile(loss='binary_crossentropy', optimizer='adam')"
      ],
      "metadata": {
        "id": "v2xg3u9Pu9tT"
      },
      "execution_count": null,
      "outputs": []
    },
    {
      "cell_type": "code",
      "source": [
        "# Train the autoencoder\n",
        "t0 = time()\n",
        "history = autoencoder.fit(train_images, train_images, epochs=25, batch_size=128,\n",
        "                          shuffle=True, validation_data=(test_images, test_images))\n",
        "t1 = time()\n",
        "print(\"Autoencoder training time: %.2g sec\" % (t1 - t0))"
      ],
      "metadata": {
        "id": "e29c7NsjvA2D"
      },
      "execution_count": null,
      "outputs": []
    },
    {
      "cell_type": "code",
      "source": [
        "# Plot training and validation loss\n",
        "plt.figure(figsize=(10, 6))\n",
        "plt.plot(history.history['loss'], label='Train')\n",
        "plt.plot(history.history['val_loss'], label='Validation')\n",
        "plt.ylabel('Binary Cross Entropy Loss')\n",
        "plt.xlabel('Epoch')\n",
        "plt.title('Autoencoder Reconstruction Loss', pad=13)\n",
        "plt.legend(loc='upper right')\n",
        "plt.show()"
      ],
      "metadata": {
        "id": "Z1VkUWGrvFFe"
      },
      "execution_count": null,
      "outputs": []
    },
    {
      "cell_type": "code",
      "execution_count": null,
      "metadata": {
        "id": "fmNFyCJUuotF"
      },
      "outputs": [],
      "source": [
        "# Reconstruct images using the trained autoencoder\n",
        "reconstructed_images = autoencoder.predict(test_images)\n",
        "\n",
        "# Display original and reconstructed images\n",
        "n = 5\n",
        "plt.figure(figsize=(20, 4))\n",
        "for i in range(n):\n",
        "    # Original Image\n",
        "    ax = plt.subplot(2, n, i + 1)\n",
        "    plt.imshow(test_images[i].reshape(28, 28), cmap=\"gray\")\n",
        "    ax.set_title(\"Original\")\n",
        "    ax.axis('off')\n",
        "\n",
        "    # Reconstructed Image\n",
        "    ax = plt.subplot(2, n, i + 1 + n)\n",
        "    plt.imshow(reconstructed_images[i].reshape(28, 28), cmap=\"gray\")\n",
        "    ax.set_title(\"Reconstructed\")\n",
        "    ax.axis('off')\n",
        "plt.show()\n",
        "\n",
        "# Generate and plot latent space representation\n",
        "latent_representation = latent_model.predict(test_images)\n",
        "\n",
        "plt.figure(figsize=(12, 10))\n",
        "scatter = sns.scatterplot(x=latent_representation[:,0],\n",
        "                          y=latent_representation[:,1],\n",
        "                          hue=test_labels,\n",
        "                          palette='tab10',\n",
        "                          legend=\"full\")\n",
        "\n",
        "plt.title(\"2D Latent Space Representation of MNIST Digits\")\n",
        "plt.xlabel(\"First Latent Dimension\")\n",
        "plt.ylabel(\"Second Latent Dimension\")\n",
        "\n",
        "# Improve the legend\n",
        "plt.legend(title=\"Digit\", bbox_to_anchor=(1.05, 1), loc='upper left')\n",
        "\n",
        "plt.tight_layout()\n",
        "plt.show()"
      ]
    }
  ]
}